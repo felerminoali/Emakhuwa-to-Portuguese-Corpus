{
  "nbformat": 4,
  "nbformat_minor": 0,
  "metadata": {
    "colab": {
      "name": "report-ner.ipynb",
      "provenance": [],
      "collapsed_sections": [],
      "mount_file_id": "1kkgDHvx9K7U_XQ1IkQnjsJPbT5lJUPvR",
      "authorship_tag": "ABX9TyOHvqbnEEDu4CAuIZ9SzsrK",
      "include_colab_link": true
    },
    "kernelspec": {
      "name": "python3",
      "display_name": "Python 3"
    },
    "language_info": {
      "name": "python"
    }
  },
  "cells": [
    {
      "cell_type": "markdown",
      "metadata": {
        "id": "view-in-github",
        "colab_type": "text"
      },
      "source": [
        "<a href=\"https://colab.research.google.com/github/felerminoali/Emakhuwa-to-Portuguese-Corpus/blob/main/report_ner.ipynb\" target=\"_parent\"><img src=\"https://colab.research.google.com/assets/colab-badge.svg\" alt=\"Open In Colab\"/></a>"
      ]
    },
    {
      "cell_type": "code",
      "metadata": {
        "id": "qBjezkbj3qhz"
      },
      "source": [
        ""
      ],
      "execution_count": null,
      "outputs": []
    },
    {
      "cell_type": "markdown",
      "metadata": {
        "id": "WxR8S9Fj3x2h"
      },
      "source": [
        "**Project Report**\n",
        "\n",
        "***Title: Distant Supervision and Tranfer Learning for Emakhuwa NER***.\n",
        "\n",
        "**Facts About Emakhuwa**\n",
        "\n",
        "1.   Its widely spoken in Northen and center of Mozambique by around 6 million people\n",
        "2.   Buntu language\n",
        "1.   Emakhuwa speakers find difficult to sound plosive consonants b, d, g, so in substitution they use alternatives approximated sounds as p, t, c respectively. refer to (https://ria.ua.pt/handle/10773/14249) \n",
        "2.   Emakhuwa was enriched by borrowing many words from Portuguese. For instance, Locations and Names in both languages are either written or sound in similar fashion. For example: Portuguese - roma, Emakhuwa  - oroma, Portuguese - éfeso, Emakhuwa - wefeso\n",
        "1.   In Emakhuwa, the letter \"o\" or \"w\" are used to express circumstantial complement of place, i.e., the letter \"o\" or \"w\" is added at the beggining of word representing a location or place. Where \"o\" is used along with a place starting with a consonant, whereas \"w\" is used with a place/location starting a with a vogal. For instance, the sentece \"I am in Maputo/Alemanha\" would be translated as \"Kiri **o**Maputo/**w**Alemanha\".\n",
        "1.   Emakhuwa was 8 variants. The ISO code for widely spoken variant of Emakhuwa is \"vmw\"\n",
        "2.   There is zero annotate data for Emakhuwa language\n",
        "\n"
      ]
    },
    {
      "cell_type": "markdown",
      "metadata": {
        "id": "WfoiA013vtJ5"
      },
      "source": [
        "**Objective: Apply distant supervision to automatically generate anottation for Name Entity Recognition of Emakhuwa language**\n"
      ]
    },
    {
      "cell_type": "markdown",
      "metadata": {
        "id": "wJBOB4iYwcwY"
      },
      "source": [
        "**Dataset**\n",
        "\n",
        "**Distant supervision** will be applied on parallel corpus of Portuguese(pt) and Emakhuwa(vmw), containing 47415 senteces. Please refer to link (https://arxiv.org/pdf/2104.05753.pdf) for more information. \n",
        "\n",
        "Data set are kept in a two folders, one for Portuguese and other for Emakhuwa, as \"/content/drive/MyDrive/NLP/NER/folds-pt/\" and \"/content/drive/MyDrive/NLP/NER/folds-vmw/\" respectivaly. In each folder contain text file with a maximum width of 100 sentences. The convention name for each file are multiple of 100, i.e., the name of the first file is \"100\", the next is \"200\", so forth and so on. The last file is named as \"47400\""
      ]
    },
    {
      "cell_type": "markdown",
      "metadata": {
        "id": "wDcBWn5Jxz0L"
      },
      "source": [
        "# Loading Dataset and"
      ]
    },
    {
      "cell_type": "code",
      "metadata": {
        "colab": {
          "base_uri": "https://localhost:8080/"
        },
        "id": "ZGmdpqba402q",
        "outputId": "88414a3f-6068-49a7-cc4b-bed13cb7fafe"
      },
      "source": [
        "from google.colab import drive\n",
        "drive.mount('/content/drive')"
      ],
      "execution_count": 5,
      "outputs": [
        {
          "output_type": "stream",
          "name": "stdout",
          "text": [
            "Mounted at /content/drive\n"
          ]
        }
      ]
    },
    {
      "cell_type": "code",
      "metadata": {
        "colab": {
          "base_uri": "https://localhost:8080/",
          "height": 376
        },
        "id": "RkrDCp6Q4sqt",
        "outputId": "12c19c95-26f3-4363-e345-e501dc569907"
      },
      "source": [
        "#TODO: Skip for retrain\n",
        "import pandas as pd\n",
        "\n",
        "path = '/content/drive/MyDrive/NLP/NER/'\n",
        "# TMX file to dataframe\n",
        "source_file = path + 'folds-pt/100' \n",
        "target_file = path + 'folds-vmw/100'\n",
        "source = []\n",
        "target = []\n",
        "skip_lines = []  # Collect the line numbers of the source portion to skip the same lines for the target portion.\n",
        "with open(source_file) as f:\n",
        "    for i, line in enumerate(f):\n",
        "      source.append(line.strip())\n",
        "                 \n",
        "with open(target_file) as f:\n",
        "    for j, line in enumerate(f):\n",
        "        target.append(line.strip())\n",
        "    \n",
        "print('Loaded data and skipped {}/{} lines since contained in test set.'.format(len(skip_lines), i))\n",
        "    \n",
        "df = pd.DataFrame(zip(source, target), columns=['source_sentence', 'target_sentence'])\n",
        "# if you get TypeError: data argument can't be an iterator is because of your zip version run this below\n",
        "#df = pd.DataFrame(list(zip(source, target)), columns=['source_sentence', 'target_sentence'])\n",
        "df.head(10)"
      ],
      "execution_count": 11,
      "outputs": [
        {
          "output_type": "stream",
          "name": "stdout",
          "text": [
            "Loaded data and skipped 0/100 lines since contained in test set.\n"
          ]
        },
        {
          "output_type": "execute_result",
          "data": {
            "text/html": [
              "<div>\n",
              "<style scoped>\n",
              "    .dataframe tbody tr th:only-of-type {\n",
              "        vertical-align: middle;\n",
              "    }\n",
              "\n",
              "    .dataframe tbody tr th {\n",
              "        vertical-align: top;\n",
              "    }\n",
              "\n",
              "    .dataframe thead th {\n",
              "        text-align: right;\n",
              "    }\n",
              "</style>\n",
              "<table border=\"1\" class=\"dataframe\">\n",
              "  <thead>\n",
              "    <tr style=\"text-align: right;\">\n",
              "      <th></th>\n",
              "      <th>source_sentence</th>\n",
              "      <th>target_sentence</th>\n",
              "    </tr>\n",
              "  </thead>\n",
              "  <tbody>\n",
              "    <tr>\n",
              "      <th>0</th>\n",
              "      <td>dessa forma , a morte , o sepultamento e a res...</td>\n",
              "      <td>tivonto okhwa , ovithiwa ni ohihimuxiwa wa yes...</td>\n",
              "    </tr>\n",
              "    <tr>\n",
              "      <th>1</th>\n",
              "      <td>confirmada por muitas testemunhas</td>\n",
              "      <td>aahooniwa ni atthu anceene</td>\n",
              "    </tr>\n",
              "    <tr>\n",
              "      <th>2</th>\n",
              "      <td>o que ajuda os cristãos a ter certeza de que j...</td>\n",
              "      <td>etthu xeeni enaakupaliha makristau wira yesu a...</td>\n",
              "    </tr>\n",
              "    <tr>\n",
              "      <th>3</th>\n",
              "      <td>para acreditarmos que vai haver uma ressurreiç...</td>\n",
              "      <td>wira nikupali wira onookhala ohihimuxiwa nihaa...</td>\n",
              "    </tr>\n",
              "    <tr>\n",
              "      <th>4</th>\n",
              "      <td>por que podemos ter certeza de que isso aconte...</td>\n",
              "      <td>etthu xeeni ennikupaliha wira yesu aahihihimux...</td>\n",
              "    </tr>\n",
              "    <tr>\n",
              "      <th>5</th>\n",
              "      <td>a primeira testemunha mencionada por paulo foi...</td>\n",
              "      <td>mutthu oopacerya onweha yesu onilavuliwa ni pa...</td>\n",
              "    </tr>\n",
              "    <tr>\n",
              "      <th>6</th>\n",
              "      <td>um grupo de discípulos confirmou que pedro tin...</td>\n",
              "      <td>nuumala-vo ekrupu ya awiixutti yaahihimya wira...</td>\n",
              "    </tr>\n",
              "    <tr>\n",
              "      <th>7</th>\n",
              "      <td>além disso , os doze , ou seja , os apóstolos ...</td>\n",
              "      <td>moottharelana paulo ohimmye wira nuumala yesu ...</td>\n",
              "    </tr>\n",
              "    <tr>\n",
              "      <th>8</th>\n",
              "      <td>daí , cristo apareceu a mais de 500 irmãos de ...</td>\n",
              "      <td>nuumala-vo kristu ahìsoniherya-tho okathi omos...</td>\n",
              "    </tr>\n",
              "    <tr>\n",
              "      <th>9</th>\n",
              "      <td>jesus também apareceu a tiago .</td>\n",
              "      <td>woonasa wene waari okathi yoole yesu aapanke a...</td>\n",
              "    </tr>\n",
              "  </tbody>\n",
              "</table>\n",
              "</div>"
            ],
            "text/plain": [
              "                                     source_sentence                                    target_sentence\n",
              "0  dessa forma , a morte , o sepultamento e a res...  tivonto okhwa , ovithiwa ni ohihimuxiwa wa yes...\n",
              "1                  confirmada por muitas testemunhas                         aahooniwa ni atthu anceene\n",
              "2  o que ajuda os cristãos a ter certeza de que j...  etthu xeeni enaakupaliha makristau wira yesu a...\n",
              "3  para acreditarmos que vai haver uma ressurreiç...  wira nikupali wira onookhala ohihimuxiwa nihaa...\n",
              "4  por que podemos ter certeza de que isso aconte...  etthu xeeni ennikupaliha wira yesu aahihihimux...\n",
              "5  a primeira testemunha mencionada por paulo foi...  mutthu oopacerya onweha yesu onilavuliwa ni pa...\n",
              "6  um grupo de discípulos confirmou que pedro tin...  nuumala-vo ekrupu ya awiixutti yaahihimya wira...\n",
              "7  além disso , os doze , ou seja , os apóstolos ...  moottharelana paulo ohimmye wira nuumala yesu ...\n",
              "8  daí , cristo apareceu a mais de 500 irmãos de ...  nuumala-vo kristu ahìsoniherya-tho okathi omos...\n",
              "9                    jesus também apareceu a tiago .  woonasa wene waari okathi yoole yesu aapanke a..."
            ]
          },
          "metadata": {},
          "execution_count": 11
        }
      ]
    },
    {
      "cell_type": "markdown",
      "metadata": {
        "id": "_nFu0aAW92VZ"
      },
      "source": [
        "# Using Spacy for NER on Portuguese corpus"
      ]
    },
    {
      "cell_type": "code",
      "metadata": {
        "colab": {
          "base_uri": "https://localhost:8080/"
        },
        "id": "DlG4qSXmOFWN",
        "outputId": "c436a38b-f650-40dc-a8b6-b0c8278c77ee"
      },
      "source": [
        "!pip install -U pip setuptools wheel"
      ],
      "execution_count": 1,
      "outputs": [
        {
          "output_type": "stream",
          "name": "stdout",
          "text": [
            "Requirement already satisfied: pip in /usr/local/lib/python3.7/dist-packages (21.3.1)\n",
            "Requirement already satisfied: setuptools in /usr/local/lib/python3.7/dist-packages (58.5.3)\n",
            "Requirement already satisfied: wheel in /usr/local/lib/python3.7/dist-packages (0.37.0)\n",
            "\u001b[33mWARNING: Running pip as the 'root' user can result in broken permissions and conflicting behaviour with the system package manager. It is recommended to use a virtual environment instead: https://pip.pypa.io/warnings/venv\u001b[0m\n"
          ]
        }
      ]
    },
    {
      "cell_type": "code",
      "metadata": {
        "colab": {
          "base_uri": "https://localhost:8080/"
        },
        "id": "ab4ga0wH-IsJ",
        "outputId": "fb8a5767-8009-471a-fc06-eb4346780bbe"
      },
      "source": [
        "# installing spacy\n",
        "!pip install -U spacy"
      ],
      "execution_count": 2,
      "outputs": [
        {
          "output_type": "stream",
          "name": "stdout",
          "text": [
            "Requirement already satisfied: spacy in /usr/local/lib/python3.7/dist-packages (3.2.0)\n",
            "Requirement already satisfied: spacy-loggers<2.0.0,>=1.0.0 in /usr/local/lib/python3.7/dist-packages (from spacy) (1.0.1)\n",
            "Requirement already satisfied: requests<3.0.0,>=2.13.0 in /usr/local/lib/python3.7/dist-packages (from spacy) (2.23.0)\n",
            "Requirement already satisfied: tqdm<5.0.0,>=4.38.0 in /usr/local/lib/python3.7/dist-packages (from spacy) (4.62.3)\n",
            "Requirement already satisfied: jinja2 in /usr/local/lib/python3.7/dist-packages (from spacy) (2.11.3)\n",
            "Requirement already satisfied: murmurhash<1.1.0,>=0.28.0 in /usr/local/lib/python3.7/dist-packages (from spacy) (1.0.6)\n",
            "Requirement already satisfied: cymem<2.1.0,>=2.0.2 in /usr/local/lib/python3.7/dist-packages (from spacy) (2.0.6)\n",
            "Requirement already satisfied: packaging>=20.0 in /usr/local/lib/python3.7/dist-packages (from spacy) (21.2)\n",
            "Requirement already satisfied: spacy-legacy<3.1.0,>=3.0.8 in /usr/local/lib/python3.7/dist-packages (from spacy) (3.0.8)\n",
            "Requirement already satisfied: pydantic!=1.8,!=1.8.1,<1.9.0,>=1.7.4 in /usr/local/lib/python3.7/dist-packages (from spacy) (1.8.2)\n",
            "Requirement already satisfied: typing-extensions<4.0.0.0,>=3.7.4 in /usr/local/lib/python3.7/dist-packages (from spacy) (3.10.0.2)\n",
            "Requirement already satisfied: typer<0.5.0,>=0.3.0 in /usr/local/lib/python3.7/dist-packages (from spacy) (0.4.0)\n",
            "Requirement already satisfied: thinc<8.1.0,>=8.0.12 in /usr/local/lib/python3.7/dist-packages (from spacy) (8.0.13)\n",
            "Requirement already satisfied: numpy>=1.15.0 in /usr/local/lib/python3.7/dist-packages (from spacy) (1.19.5)\n",
            "Requirement already satisfied: srsly<3.0.0,>=2.4.1 in /usr/local/lib/python3.7/dist-packages (from spacy) (2.4.2)\n",
            "Requirement already satisfied: wasabi<1.1.0,>=0.8.1 in /usr/local/lib/python3.7/dist-packages (from spacy) (0.8.2)\n",
            "Requirement already satisfied: blis<0.8.0,>=0.4.0 in /usr/local/lib/python3.7/dist-packages (from spacy) (0.4.1)\n",
            "Requirement already satisfied: preshed<3.1.0,>=3.0.2 in /usr/local/lib/python3.7/dist-packages (from spacy) (3.0.6)\n",
            "Requirement already satisfied: pathy>=0.3.5 in /usr/local/lib/python3.7/dist-packages (from spacy) (0.6.1)\n",
            "Requirement already satisfied: langcodes<4.0.0,>=3.2.0 in /usr/local/lib/python3.7/dist-packages (from spacy) (3.3.0)\n",
            "Requirement already satisfied: catalogue<2.1.0,>=2.0.6 in /usr/local/lib/python3.7/dist-packages (from spacy) (2.0.6)\n",
            "Requirement already satisfied: setuptools in /usr/local/lib/python3.7/dist-packages (from spacy) (58.5.3)\n",
            "Requirement already satisfied: zipp>=0.5 in /usr/local/lib/python3.7/dist-packages (from catalogue<2.1.0,>=2.0.6->spacy) (3.6.0)\n",
            "Requirement already satisfied: pyparsing<3,>=2.0.2 in /usr/local/lib/python3.7/dist-packages (from packaging>=20.0->spacy) (2.4.7)\n",
            "Requirement already satisfied: smart-open<6.0.0,>=5.0.0 in /usr/local/lib/python3.7/dist-packages (from pathy>=0.3.5->spacy) (5.2.1)\n",
            "Requirement already satisfied: urllib3!=1.25.0,!=1.25.1,<1.26,>=1.21.1 in /usr/local/lib/python3.7/dist-packages (from requests<3.0.0,>=2.13.0->spacy) (1.24.3)\n",
            "Requirement already satisfied: chardet<4,>=3.0.2 in /usr/local/lib/python3.7/dist-packages (from requests<3.0.0,>=2.13.0->spacy) (3.0.4)\n",
            "Requirement already satisfied: certifi>=2017.4.17 in /usr/local/lib/python3.7/dist-packages (from requests<3.0.0,>=2.13.0->spacy) (2021.10.8)\n",
            "Requirement already satisfied: idna<3,>=2.5 in /usr/local/lib/python3.7/dist-packages (from requests<3.0.0,>=2.13.0->spacy) (2.10)\n",
            "Requirement already satisfied: click<9.0.0,>=7.1.1 in /usr/local/lib/python3.7/dist-packages (from typer<0.5.0,>=0.3.0->spacy) (7.1.2)\n",
            "Requirement already satisfied: MarkupSafe>=0.23 in /usr/local/lib/python3.7/dist-packages (from jinja2->spacy) (2.0.1)\n",
            "\u001b[33mWARNING: Running pip as the 'root' user can result in broken permissions and conflicting behaviour with the system package manager. It is recommended to use a virtual environment instead: https://pip.pypa.io/warnings/venv\u001b[0m\n"
          ]
        }
      ]
    },
    {
      "cell_type": "code",
      "metadata": {
        "colab": {
          "base_uri": "https://localhost:8080/"
        },
        "id": "5zQPVya--usD",
        "outputId": "d0e416c4-8c4b-4f22-fa8b-c64f940f15ba"
      },
      "source": [
        "!pip install -U spacy-lookups-data"
      ],
      "execution_count": 3,
      "outputs": [
        {
          "output_type": "stream",
          "name": "stdout",
          "text": [
            "Requirement already satisfied: spacy-lookups-data in /usr/local/lib/python3.7/dist-packages (1.0.3)\n",
            "Requirement already satisfied: setuptools in /usr/local/lib/python3.7/dist-packages (from spacy-lookups-data) (58.5.3)\n",
            "\u001b[33mWARNING: Running pip as the 'root' user can result in broken permissions and conflicting behaviour with the system package manager. It is recommended to use a virtual environment instead: https://pip.pypa.io/warnings/venv\u001b[0m\n"
          ]
        }
      ]
    },
    {
      "cell_type": "code",
      "metadata": {
        "colab": {
          "base_uri": "https://localhost:8080/"
        },
        "id": "z48-re41-zW9",
        "outputId": "3f950a6e-5911-40e8-fe5d-aedc427fdb4f"
      },
      "source": [
        "!python -m spacy download pt_core_news_sm"
      ],
      "execution_count": 9,
      "outputs": [
        {
          "output_type": "stream",
          "name": "stdout",
          "text": [
            "Collecting pt-core-news-sm==3.2.0\n",
            "  Using cached https://github.com/explosion/spacy-models/releases/download/pt_core_news_sm-3.2.0/pt_core_news_sm-3.2.0-py3-none-any.whl (22.2 MB)\n",
            "Requirement already satisfied: spacy<3.3.0,>=3.2.0 in /usr/local/lib/python3.7/dist-packages (from pt-core-news-sm==3.2.0) (3.2.0)\n",
            "Requirement already satisfied: typing-extensions<4.0.0.0,>=3.7.4 in /usr/local/lib/python3.7/dist-packages (from spacy<3.3.0,>=3.2.0->pt-core-news-sm==3.2.0) (3.10.0.2)\n",
            "Requirement already satisfied: thinc<8.1.0,>=8.0.12 in /usr/local/lib/python3.7/dist-packages (from spacy<3.3.0,>=3.2.0->pt-core-news-sm==3.2.0) (8.0.13)\n",
            "Requirement already satisfied: wasabi<1.1.0,>=0.8.1 in /usr/local/lib/python3.7/dist-packages (from spacy<3.3.0,>=3.2.0->pt-core-news-sm==3.2.0) (0.8.2)\n",
            "Requirement already satisfied: typer<0.5.0,>=0.3.0 in /usr/local/lib/python3.7/dist-packages (from spacy<3.3.0,>=3.2.0->pt-core-news-sm==3.2.0) (0.4.0)\n",
            "Requirement already satisfied: langcodes<4.0.0,>=3.2.0 in /usr/local/lib/python3.7/dist-packages (from spacy<3.3.0,>=3.2.0->pt-core-news-sm==3.2.0) (3.3.0)\n",
            "Requirement already satisfied: packaging>=20.0 in /usr/local/lib/python3.7/dist-packages (from spacy<3.3.0,>=3.2.0->pt-core-news-sm==3.2.0) (21.2)\n",
            "Requirement already satisfied: cymem<2.1.0,>=2.0.2 in /usr/local/lib/python3.7/dist-packages (from spacy<3.3.0,>=3.2.0->pt-core-news-sm==3.2.0) (2.0.6)\n",
            "Requirement already satisfied: jinja2 in /usr/local/lib/python3.7/dist-packages (from spacy<3.3.0,>=3.2.0->pt-core-news-sm==3.2.0) (2.11.3)\n",
            "Requirement already satisfied: pydantic!=1.8,!=1.8.1,<1.9.0,>=1.7.4 in /usr/local/lib/python3.7/dist-packages (from spacy<3.3.0,>=3.2.0->pt-core-news-sm==3.2.0) (1.8.2)\n",
            "Requirement already satisfied: numpy>=1.15.0 in /usr/local/lib/python3.7/dist-packages (from spacy<3.3.0,>=3.2.0->pt-core-news-sm==3.2.0) (1.19.5)\n",
            "Requirement already satisfied: preshed<3.1.0,>=3.0.2 in /usr/local/lib/python3.7/dist-packages (from spacy<3.3.0,>=3.2.0->pt-core-news-sm==3.2.0) (3.0.6)\n",
            "Requirement already satisfied: blis<0.8.0,>=0.4.0 in /usr/local/lib/python3.7/dist-packages (from spacy<3.3.0,>=3.2.0->pt-core-news-sm==3.2.0) (0.4.1)\n",
            "Requirement already satisfied: murmurhash<1.1.0,>=0.28.0 in /usr/local/lib/python3.7/dist-packages (from spacy<3.3.0,>=3.2.0->pt-core-news-sm==3.2.0) (1.0.6)\n",
            "Requirement already satisfied: spacy-loggers<2.0.0,>=1.0.0 in /usr/local/lib/python3.7/dist-packages (from spacy<3.3.0,>=3.2.0->pt-core-news-sm==3.2.0) (1.0.1)\n",
            "Requirement already satisfied: catalogue<2.1.0,>=2.0.6 in /usr/local/lib/python3.7/dist-packages (from spacy<3.3.0,>=3.2.0->pt-core-news-sm==3.2.0) (2.0.6)\n",
            "Requirement already satisfied: pathy>=0.3.5 in /usr/local/lib/python3.7/dist-packages (from spacy<3.3.0,>=3.2.0->pt-core-news-sm==3.2.0) (0.6.1)\n",
            "Requirement already satisfied: requests<3.0.0,>=2.13.0 in /usr/local/lib/python3.7/dist-packages (from spacy<3.3.0,>=3.2.0->pt-core-news-sm==3.2.0) (2.23.0)\n",
            "Requirement already satisfied: setuptools in /usr/local/lib/python3.7/dist-packages (from spacy<3.3.0,>=3.2.0->pt-core-news-sm==3.2.0) (58.5.3)\n",
            "Requirement already satisfied: tqdm<5.0.0,>=4.38.0 in /usr/local/lib/python3.7/dist-packages (from spacy<3.3.0,>=3.2.0->pt-core-news-sm==3.2.0) (4.62.3)\n",
            "Requirement already satisfied: spacy-legacy<3.1.0,>=3.0.8 in /usr/local/lib/python3.7/dist-packages (from spacy<3.3.0,>=3.2.0->pt-core-news-sm==3.2.0) (3.0.8)\n",
            "Requirement already satisfied: srsly<3.0.0,>=2.4.1 in /usr/local/lib/python3.7/dist-packages (from spacy<3.3.0,>=3.2.0->pt-core-news-sm==3.2.0) (2.4.2)\n",
            "Requirement already satisfied: zipp>=0.5 in /usr/local/lib/python3.7/dist-packages (from catalogue<2.1.0,>=2.0.6->spacy<3.3.0,>=3.2.0->pt-core-news-sm==3.2.0) (3.6.0)\n",
            "Requirement already satisfied: pyparsing<3,>=2.0.2 in /usr/local/lib/python3.7/dist-packages (from packaging>=20.0->spacy<3.3.0,>=3.2.0->pt-core-news-sm==3.2.0) (2.4.7)\n",
            "Requirement already satisfied: smart-open<6.0.0,>=5.0.0 in /usr/local/lib/python3.7/dist-packages (from pathy>=0.3.5->spacy<3.3.0,>=3.2.0->pt-core-news-sm==3.2.0) (5.2.1)\n",
            "Requirement already satisfied: chardet<4,>=3.0.2 in /usr/local/lib/python3.7/dist-packages (from requests<3.0.0,>=2.13.0->spacy<3.3.0,>=3.2.0->pt-core-news-sm==3.2.0) (3.0.4)\n",
            "Requirement already satisfied: certifi>=2017.4.17 in /usr/local/lib/python3.7/dist-packages (from requests<3.0.0,>=2.13.0->spacy<3.3.0,>=3.2.0->pt-core-news-sm==3.2.0) (2021.10.8)\n",
            "Requirement already satisfied: urllib3!=1.25.0,!=1.25.1,<1.26,>=1.21.1 in /usr/local/lib/python3.7/dist-packages (from requests<3.0.0,>=2.13.0->spacy<3.3.0,>=3.2.0->pt-core-news-sm==3.2.0) (1.24.3)\n",
            "Requirement already satisfied: idna<3,>=2.5 in /usr/local/lib/python3.7/dist-packages (from requests<3.0.0,>=2.13.0->spacy<3.3.0,>=3.2.0->pt-core-news-sm==3.2.0) (2.10)\n",
            "Requirement already satisfied: click<9.0.0,>=7.1.1 in /usr/local/lib/python3.7/dist-packages (from typer<0.5.0,>=0.3.0->spacy<3.3.0,>=3.2.0->pt-core-news-sm==3.2.0) (7.1.2)\n",
            "Requirement already satisfied: MarkupSafe>=0.23 in /usr/local/lib/python3.7/dist-packages (from jinja2->spacy<3.3.0,>=3.2.0->pt-core-news-sm==3.2.0) (2.0.1)\n",
            "\u001b[33mWARNING: Running pip as the 'root' user can result in broken permissions and conflicting behaviour with the system package manager. It is recommended to use a virtual environment instead: https://pip.pypa.io/warnings/venv\u001b[0m\n",
            "\u001b[38;5;2m✔ Download and installation successful\u001b[0m\n",
            "You can now load the package via spacy.load('pt_core_news_sm')\n"
          ]
        }
      ]
    },
    {
      "cell_type": "code",
      "metadata": {
        "id": "nYjfka2r_AxU"
      },
      "source": [
        "import spacy\n",
        "from spacy import displacy\n",
        "\n",
        "def ner_on_pt_test():\n",
        "  nlp = spacy.load('pt_core_news_sm')\n",
        "\n",
        "  # use only 100 file as a sample\n",
        "  corpus = open('/content/drive/MyDrive/NLP/NER/folds-pt/100').read()\n",
        "  doc = nlp(corpus)\n",
        "  entidades_nomeadas = list(doc.ents)\n",
        "\n",
        "  detalhes_entidade = [(entidade.orth_, entidade.label_)  for entidade in doc.ents if entidade.label_ == 'LOC' or entidade.label_ == 'PER']\n",
        "  #print(detalhes_entidade)\n",
        "\n",
        "  displacy.render(doc, jupyter=True, style=\"ent\")"
      ],
      "execution_count": 23,
      "outputs": []
    },
    {
      "cell_type": "code",
      "metadata": {
        "colab": {
          "base_uri": "https://localhost:8080/",
          "height": 1000
        },
        "id": "F2oPLGOyELCT",
        "outputId": "5708c729-f649-4589-fe7d-be573931e48e"
      },
      "source": [
        "ner_on_pt_test()"
      ],
      "execution_count": 24,
      "outputs": [
        {
          "output_type": "display_data",
          "data": {
            "text/html": [
              "<span class=\"tex2jax_ignore\"><div class=\"entities\" style=\"line-height: 2.5; direction: ltr\">dessa forma , a morte , o sepultamento e a ressurreição de \n",
              "<mark class=\"entity\" style=\"background: #ddd; padding: 0.45em 0.6em; margin: 0 0.25em; line-height: 1; border-radius: 0.35em;\">\n",
              "    jesus\n",
              "    <span style=\"font-size: 0.8em; font-weight: bold; line-height: 1; border-radius: 0.35em; vertical-align: middle; margin-left: 0.5rem\">PER</span>\n",
              "</mark>\n",
              " nos fazem ter certeza de que podemos ser libertados do pecado e da morte e de que nossos parentes e amigos falecidos vão voltar a viver .</br>confirmada por muitas testemunhas</br>o que ajuda os cristãos a ter certeza de que \n",
              "<mark class=\"entity\" style=\"background: #ddd; padding: 0.45em 0.6em; margin: 0 0.25em; line-height: 1; border-radius: 0.35em;\">\n",
              "    jesus\n",
              "    <span style=\"font-size: 0.8em; font-weight: bold; line-height: 1; border-radius: 0.35em; vertical-align: middle; margin-left: 0.5rem\">PER</span>\n",
              "</mark>\n",
              " foi ressuscitado ?</br>para acreditarmos que vai haver uma ressurreição , temos que acreditar que \n",
              "<mark class=\"entity\" style=\"background: #ddd; padding: 0.45em 0.6em; margin: 0 0.25em; line-height: 1; border-radius: 0.35em;\">\n",
              "    jesus\n",
              "    <span style=\"font-size: 0.8em; font-weight: bold; line-height: 1; border-radius: 0.35em; vertical-align: middle; margin-left: 0.5rem\">PER</span>\n",
              "</mark>\n",
              " foi ressuscitado .</br>por que podemos ter certeza de que isso aconteceu ?muitas pessoas viram \n",
              "<mark class=\"entity\" style=\"background: #ddd; padding: 0.45em 0.6em; margin: 0 0.25em; line-height: 1; border-radius: 0.35em;\">\n",
              "    jesus\n",
              "    <span style=\"font-size: 0.8em; font-weight: bold; line-height: 1; border-radius: 0.35em; vertical-align: middle; margin-left: 0.5rem\">PER</span>\n",
              "</mark>\n",
              " depois de ele ser ressuscitado e confirmaram isso .</br>a primeira testemunha mencionada por \n",
              "<mark class=\"entity\" style=\"background: #ddd; padding: 0.45em 0.6em; margin: 0 0.25em; line-height: 1; border-radius: 0.35em;\">\n",
              "    paulo\n",
              "    <span style=\"font-size: 0.8em; font-weight: bold; line-height: 1; border-radius: 0.35em; vertical-align: middle; margin-left: 0.5rem\">PER</span>\n",
              "</mark>\n",
              " foi o \n",
              "<mark class=\"entity\" style=\"background: #ddd; padding: 0.45em 0.6em; margin: 0 0.25em; line-height: 1; border-radius: 0.35em;\">\n",
              "    apóstolo pedro\n",
              "    <span style=\"font-size: 0.8em; font-weight: bold; line-height: 1; border-radius: 0.35em; vertical-align: middle; margin-left: 0.5rem\">PER</span>\n",
              "</mark>\n",
              " .</br>um grupo de discípulos confirmou que \n",
              "<mark class=\"entity\" style=\"background: #ddd; padding: 0.45em 0.6em; margin: 0 0.25em; line-height: 1; border-radius: 0.35em;\">\n",
              "    pedro\n",
              "    <span style=\"font-size: 0.8em; font-weight: bold; line-height: 1; border-radius: 0.35em; vertical-align: middle; margin-left: 0.5rem\">PER</span>\n",
              "</mark>\n",
              " tinha visto o ressuscitado \n",
              "<mark class=\"entity\" style=\"background: #ddd; padding: 0.45em 0.6em; margin: 0 0.25em; line-height: 1; border-radius: 0.35em;\">\n",
              "    jesus\n",
              "    <span style=\"font-size: 0.8em; font-weight: bold; line-height: 1; border-radius: 0.35em; vertical-align: middle; margin-left: 0.5rem\">PER</span>\n",
              "</mark>\n",
              " .</br>além disso , os doze , ou seja , os apóstolos , viram \n",
              "<mark class=\"entity\" style=\"background: #ddd; padding: 0.45em 0.6em; margin: 0 0.25em; line-height: 1; border-radius: 0.35em;\">\n",
              "    jesus\n",
              "    <span style=\"font-size: 0.8em; font-weight: bold; line-height: 1; border-radius: 0.35em; vertical-align: middle; margin-left: 0.5rem\">PER</span>\n",
              "</mark>\n",
              " depois de ser levantado .</br>daí , \n",
              "<mark class=\"entity\" style=\"background: #ddd; padding: 0.45em 0.6em; margin: 0 0.25em; line-height: 1; border-radius: 0.35em;\">\n",
              "    cristo\n",
              "    <span style=\"font-size: 0.8em; font-weight: bold; line-height: 1; border-radius: 0.35em; vertical-align: middle; margin-left: 0.5rem\">PER</span>\n",
              "</mark>\n",
              " apareceu a mais de 500 irmãos de uma só vez — provavelmente naquela reunião feliz na galileia mencionada em mateus 2 : 16-20 .</br>\n",
              "<mark class=\"entity\" style=\"background: #ddd; padding: 0.45em 0.6em; margin: 0 0.25em; line-height: 1; border-radius: 0.35em;\">\n",
              "    jesus\n",
              "    <span style=\"font-size: 0.8em; font-weight: bold; line-height: 1; border-radius: 0.35em; vertical-align: middle; margin-left: 0.5rem\">PER</span>\n",
              "</mark>\n",
              " também apareceu a \n",
              "<mark class=\"entity\" style=\"background: #ddd; padding: 0.45em 0.6em; margin: 0 0.25em; line-height: 1; border-radius: 0.35em;\">\n",
              "    tiago\n",
              "    <span style=\"font-size: 0.8em; font-weight: bold; line-height: 1; border-radius: 0.35em; vertical-align: middle; margin-left: 0.5rem\">PER</span>\n",
              "</mark>\n",
              " .</br>esse tiago provavelmente era o meio-irmão de \n",
              "<mark class=\"entity\" style=\"background: #ddd; padding: 0.45em 0.6em; margin: 0 0.25em; line-height: 1; border-radius: 0.35em;\">\n",
              "    jesus\n",
              "    <span style=\"font-size: 0.8em; font-weight: bold; line-height: 1; border-radius: 0.35em; vertical-align: middle; margin-left: 0.5rem\">PER</span>\n",
              "</mark>\n",
              " , que antes não acreditava que ele fosse o \n",
              "<mark class=\"entity\" style=\"background: #ddd; padding: 0.45em 0.6em; margin: 0 0.25em; line-height: 1; border-radius: 0.35em;\">\n",
              "    messias\n",
              "    <span style=\"font-size: 0.8em; font-weight: bold; line-height: 1; border-radius: 0.35em; vertical-align: middle; margin-left: 0.5rem\">MISC</span>\n",
              "</mark>\n",
              " .</br>depois de ver \n",
              "<mark class=\"entity\" style=\"background: #ddd; padding: 0.45em 0.6em; margin: 0 0.25em; line-height: 1; border-radius: 0.35em;\">\n",
              "    jesus\n",
              "    <span style=\"font-size: 0.8em; font-weight: bold; line-height: 1; border-radius: 0.35em; vertical-align: middle; margin-left: 0.5rem\">PER</span>\n",
              "</mark>\n",
              " , \n",
              "<mark class=\"entity\" style=\"background: #ddd; padding: 0.45em 0.6em; margin: 0 0.25em; line-height: 1; border-radius: 0.35em;\">\n",
              "    tiago\n",
              "    <span style=\"font-size: 0.8em; font-weight: bold; line-height: 1; border-radius: 0.35em; vertical-align: middle; margin-left: 0.5rem\">PER</span>\n",
              "</mark>\n",
              " ficou convencido .</br>é interessante notar que , no ano 55 , quando \n",
              "<mark class=\"entity\" style=\"background: #ddd; padding: 0.45em 0.6em; margin: 0 0.25em; line-height: 1; border-radius: 0.35em;\">\n",
              "    paulo\n",
              "    <span style=\"font-size: 0.8em; font-weight: bold; line-height: 1; border-radius: 0.35em; vertical-align: middle; margin-left: 0.5rem\">PER</span>\n",
              "</mark>\n",
              " escreveu essa carta , muitas testemunhas da ressurreição de \n",
              "<mark class=\"entity\" style=\"background: #ddd; padding: 0.45em 0.6em; margin: 0 0.25em; line-height: 1; border-radius: 0.35em;\">\n",
              "    jesus\n",
              "    <span style=\"font-size: 0.8em; font-weight: bold; line-height: 1; border-radius: 0.35em; vertical-align: middle; margin-left: 0.5rem\">PER</span>\n",
              "</mark>\n",
              " ainda estavam vivas .</br>então , se alguém tivesse alguma dúvida , era só conversar com uma delas .</br>como lemos em atos : 3-5 , que outra prova \n",
              "<mark class=\"entity\" style=\"background: #ddd; padding: 0.45em 0.6em; margin: 0 0.25em; line-height: 1; border-radius: 0.35em;\">\n",
              "    paulo\n",
              "    <span style=\"font-size: 0.8em; font-weight: bold; line-height: 1; border-radius: 0.35em; vertical-align: middle; margin-left: 0.5rem\">PER</span>\n",
              "</mark>\n",
              " podia dar de que \n",
              "<mark class=\"entity\" style=\"background: #ddd; padding: 0.45em 0.6em; margin: 0 0.25em; line-height: 1; border-radius: 0.35em;\">\n",
              "    jesus\n",
              "    <span style=\"font-size: 0.8em; font-weight: bold; line-height: 1; border-radius: 0.35em; vertical-align: middle; margin-left: 0.5rem\">PER</span>\n",
              "</mark>\n",
              " tinha sido ressuscitado ?</br>mais tarde , \n",
              "<mark class=\"entity\" style=\"background: #ddd; padding: 0.45em 0.6em; margin: 0 0.25em; line-height: 1; border-radius: 0.35em;\">\n",
              "    jesus\n",
              "    <span style=\"font-size: 0.8em; font-weight: bold; line-height: 1; border-radius: 0.35em; vertical-align: middle; margin-left: 0.5rem\">PER</span>\n",
              "</mark>\n",
              " apareceu para o próprio \n",
              "<mark class=\"entity\" style=\"background: #ddd; padding: 0.45em 0.6em; margin: 0 0.25em; line-height: 1; border-radius: 0.35em;\">\n",
              "    paulo\n",
              "    <span style=\"font-size: 0.8em; font-weight: bold; line-height: 1; border-radius: 0.35em; vertical-align: middle; margin-left: 0.5rem\">PER</span>\n",
              "</mark>\n",
              " .</br>paulo estava indo para \n",
              "<mark class=\"entity\" style=\"background: #ff9561; padding: 0.45em 0.6em; margin: 0 0.25em; line-height: 1; border-radius: 0.35em;\">\n",
              "    damasco\n",
              "    <span style=\"font-size: 0.8em; font-weight: bold; line-height: 1; border-radius: 0.35em; vertical-align: middle; margin-left: 0.5rem\">LOC</span>\n",
              "</mark>\n",
              " quando ouviu a voz de \n",
              "<mark class=\"entity\" style=\"background: #ddd; padding: 0.45em 0.6em; margin: 0 0.25em; line-height: 1; border-radius: 0.35em;\">\n",
              "    jesus\n",
              "    <span style=\"font-size: 0.8em; font-weight: bold; line-height: 1; border-radius: 0.35em; vertical-align: middle; margin-left: 0.5rem\">PER</span>\n",
              "</mark>\n",
              " e teve uma visão de \n",
              "<mark class=\"entity\" style=\"background: #ddd; padding: 0.45em 0.6em; margin: 0 0.25em; line-height: 1; border-radius: 0.35em;\">\n",
              "    cristo\n",
              "    <span style=\"font-size: 0.8em; font-weight: bold; line-height: 1; border-radius: 0.35em; vertical-align: middle; margin-left: 0.5rem\">PER</span>\n",
              "</mark>\n",
              " no céu .</br>o que aconteceu com \n",
              "<mark class=\"entity\" style=\"background: #ddd; padding: 0.45em 0.6em; margin: 0 0.25em; line-height: 1; border-radius: 0.35em;\">\n",
              "    paulo\n",
              "    <span style=\"font-size: 0.8em; font-weight: bold; line-height: 1; border-radius: 0.35em; vertical-align: middle; margin-left: 0.5rem\">PER</span>\n",
              "</mark>\n",
              " foi mais uma prova de que a ressurreição de \n",
              "<mark class=\"entity\" style=\"background: #ddd; padding: 0.45em 0.6em; margin: 0 0.25em; line-height: 1; border-radius: 0.35em;\">\n",
              "    jesus\n",
              "    <span style=\"font-size: 0.8em; font-weight: bold; line-height: 1; border-radius: 0.35em; vertical-align: middle; margin-left: 0.5rem\">PER</span>\n",
              "</mark>\n",
              " realmente tinha acontecido .</br>a certeza que \n",
              "<mark class=\"entity\" style=\"background: #ddd; padding: 0.45em 0.6em; margin: 0 0.25em; line-height: 1; border-radius: 0.35em;\">\n",
              "    paulo\n",
              "    <span style=\"font-size: 0.8em; font-weight: bold; line-height: 1; border-radius: 0.35em; vertical-align: middle; margin-left: 0.5rem\">PER</span>\n",
              "</mark>\n",
              " tinha da ressurreição de \n",
              "<mark class=\"entity\" style=\"background: #ddd; padding: 0.45em 0.6em; margin: 0 0.25em; line-height: 1; border-radius: 0.35em;\">\n",
              "    jesus\n",
              "    <span style=\"font-size: 0.8em; font-weight: bold; line-height: 1; border-radius: 0.35em; vertical-align: middle; margin-left: 0.5rem\">PER</span>\n",
              "</mark>\n",
              " o motivou a fazer o quê ?</br>para alguns , o testemunho de \n",
              "<mark class=\"entity\" style=\"background: #ddd; padding: 0.45em 0.6em; margin: 0 0.25em; line-height: 1; border-radius: 0.35em;\">\n",
              "    paulo\n",
              "    <span style=\"font-size: 0.8em; font-weight: bold; line-height: 1; border-radius: 0.35em; vertical-align: middle; margin-left: 0.5rem\">PER</span>\n",
              "</mark>\n",
              " podia ser especialmente interessante . afinal , ele costumava perseguir os cristãos . mas quando ficou convencido de que \n",
              "<mark class=\"entity\" style=\"background: #ddd; padding: 0.45em 0.6em; margin: 0 0.25em; line-height: 1; border-radius: 0.35em;\">\n",
              "    jesus\n",
              "    <span style=\"font-size: 0.8em; font-weight: bold; line-height: 1; border-radius: 0.35em; vertical-align: middle; margin-left: 0.5rem\">PER</span>\n",
              "</mark>\n",
              " tinha sido ressuscitado , \n",
              "<mark class=\"entity\" style=\"background: #ddd; padding: 0.45em 0.6em; margin: 0 0.25em; line-height: 1; border-radius: 0.35em;\">\n",
              "    paulo\n",
              "    <span style=\"font-size: 0.8em; font-weight: bold; line-height: 1; border-radius: 0.35em; vertical-align: middle; margin-left: 0.5rem\">PER</span>\n",
              "</mark>\n",
              " se esforçou muito para convencer outros dessa verdade . ele até mesmo suportou espancamentos , prisões e naufrágios para divulgar a outros que \n",
              "<mark class=\"entity\" style=\"background: #ddd; padding: 0.45em 0.6em; margin: 0 0.25em; line-height: 1; border-radius: 0.35em;\">\n",
              "    jesus\n",
              "    <span style=\"font-size: 0.8em; font-weight: bold; line-height: 1; border-radius: 0.35em; vertical-align: middle; margin-left: 0.5rem\">PER</span>\n",
              "</mark>\n",
              " tinha morrido , mas voltado a viver .</br>paulo tinha tanta certeza de que \n",
              "<mark class=\"entity\" style=\"background: #ddd; padding: 0.45em 0.6em; margin: 0 0.25em; line-height: 1; border-radius: 0.35em;\">\n",
              "    jesus\n",
              "    <span style=\"font-size: 0.8em; font-weight: bold; line-height: 1; border-radius: 0.35em; vertical-align: middle; margin-left: 0.5rem\">PER</span>\n",
              "</mark>\n",
              " tinha sido ressuscitado que estava disposto a morrer para defender sua convicção .</br>sem dúvida , o testemunho desses primeiros cristãos fortalece nossa confiança de que \n",
              "<mark class=\"entity\" style=\"background: #ddd; padding: 0.45em 0.6em; margin: 0 0.25em; line-height: 1; border-radius: 0.35em;\">\n",
              "    jesus\n",
              "    <span style=\"font-size: 0.8em; font-weight: bold; line-height: 1; border-radius: 0.35em; vertical-align: middle; margin-left: 0.5rem\">PER</span>\n",
              "</mark>\n",
              " foi ressuscitado e aumenta nossa fé na ressurreição .</br>corrigindo pontos de vista errados</br>por que alguns em corinto tinham pontos de vista errados sobre a ressurreição ?</br>alguns na cidade grega de \n",
              "<mark class=\"entity\" style=\"background: #ff9561; padding: 0.45em 0.6em; margin: 0 0.25em; line-height: 1; border-radius: 0.35em;\">\n",
              "    corinto\n",
              "    <span style=\"font-size: 0.8em; font-weight: bold; line-height: 1; border-radius: 0.35em; vertical-align: middle; margin-left: 0.5rem\">LOC</span>\n",
              "</mark>\n",
              " tinham pontos de vista errados sobre a ressurreição .</br>eles até diziam : não há ressurreição dos mortos .</br>por quê ? filósofos em outra cidade grega , \n",
              "<mark class=\"entity\" style=\"background: #ff9561; padding: 0.45em 0.6em; margin: 0 0.25em; line-height: 1; border-radius: 0.35em;\">\n",
              "    atenas\n",
              "    <span style=\"font-size: 0.8em; font-weight: bold; line-height: 1; border-radius: 0.35em; vertical-align: middle; margin-left: 0.5rem\">LOC</span>\n",
              "</mark>\n",
              " , zombavam da ideia de que \n",
              "<mark class=\"entity\" style=\"background: #ddd; padding: 0.45em 0.6em; margin: 0 0.25em; line-height: 1; border-radius: 0.35em;\">\n",
              "    jesus\n",
              "    <span style=\"font-size: 0.8em; font-weight: bold; line-height: 1; border-radius: 0.35em; vertical-align: middle; margin-left: 0.5rem\">PER</span>\n",
              "</mark>\n",
              " tinha sido ressuscitado .</br>esse modo de pensar deve ter influenciado alguns em \n",
              "<mark class=\"entity\" style=\"background: #ff9561; padding: 0.45em 0.6em; margin: 0 0.25em; line-height: 1; border-radius: 0.35em;\">\n",
              "    corinto\n",
              "    <span style=\"font-size: 0.8em; font-weight: bold; line-height: 1; border-radius: 0.35em; vertical-align: middle; margin-left: 0.5rem\">LOC</span>\n",
              "</mark>\n",
              " .</br>outros talvez achassem que a ressurreição não era literal .</br>eles diziam que a pessoa antes estava morta por causa do pecado , mas ao se tornar cristã , tinha voltado a viver .</br>qualquer que fosse o motivo , não acreditar na ressurreição tornava sua fé inútil .</br>afinal , se deus não tivesse ressuscitado jesus , nenhum resgate teria sido pago e todos continuariam no pecado .</br>assim , todos aqueles que não acreditassem na ressurreição não teriam nenhuma esperança válida .</br>— 1 cor .</br>15 : 13-19 ; heb .</br>9 : 12 , 14 .</br>de acordo com 1 pedro 3 : 18 , 22 , por que a ressurreição de \n",
              "<mark class=\"entity\" style=\"background: #ddd; padding: 0.45em 0.6em; margin: 0 0.25em; line-height: 1; border-radius: 0.35em;\">\n",
              "    jesus\n",
              "    <span style=\"font-size: 0.8em; font-weight: bold; line-height: 1; border-radius: 0.35em; vertical-align: middle; margin-left: 0.5rem\">PER</span>\n",
              "</mark>\n",
              " foi diferente das que tinham acontecido antes ?</br>aqueles que receberão vida</br>que diferença \n",
              "<mark class=\"entity\" style=\"background: #ddd; padding: 0.45em 0.6em; margin: 0 0.25em; line-height: 1; border-radius: 0.35em;\">\n",
              "    paulo\n",
              "    <span style=\"font-size: 0.8em; font-weight: bold; line-height: 1; border-radius: 0.35em; vertical-align: middle; margin-left: 0.5rem\">PER</span>\n",
              "</mark>\n",
              " disse que havia entre \n",
              "<mark class=\"entity\" style=\"background: #ddd; padding: 0.45em 0.6em; margin: 0 0.25em; line-height: 1; border-radius: 0.35em;\">\n",
              "    adão\n",
              "    <span style=\"font-size: 0.8em; font-weight: bold; line-height: 1; border-radius: 0.35em; vertical-align: middle; margin-left: 0.5rem\">PER</span>\n",
              "</mark>\n",
              " e jesus ?</br>em que sentido a morte de um homem pode trazer vida para milhões ? \n",
              "<mark class=\"entity\" style=\"background: #ddd; padding: 0.45em 0.6em; margin: 0 0.25em; line-height: 1; border-radius: 0.35em;\">\n",
              "    paulo\n",
              "    <span style=\"font-size: 0.8em; font-weight: bold; line-height: 1; border-radius: 0.35em; vertical-align: middle; margin-left: 0.5rem\">PER</span>\n",
              "</mark>\n",
              " dá uma resposta lógica para essa pergunta .</br>ele explicou a diferença entre o que \n",
              "<mark class=\"entity\" style=\"background: #ddd; padding: 0.45em 0.6em; margin: 0 0.25em; line-height: 1; border-radius: 0.35em;\">\n",
              "    adão\n",
              "    <span style=\"font-size: 0.8em; font-weight: bold; line-height: 1; border-radius: 0.35em; vertical-align: middle; margin-left: 0.5rem\">PER</span>\n",
              "</mark>\n",
              " nos causou e o que \n",
              "<mark class=\"entity\" style=\"background: #ddd; padding: 0.45em 0.6em; margin: 0 0.25em; line-height: 1; border-radius: 0.35em;\">\n",
              "    jesus\n",
              "    <span style=\"font-size: 0.8em; font-weight: bold; line-height: 1; border-radius: 0.35em; vertical-align: middle; margin-left: 0.5rem\">PER</span>\n",
              "</mark>\n",
              " fez por nós .</br>sobre \n",
              "<mark class=\"entity\" style=\"background: #ddd; padding: 0.45em 0.6em; margin: 0 0.25em; line-height: 1; border-radius: 0.35em;\">\n",
              "    adão\n",
              "    <span style=\"font-size: 0.8em; font-weight: bold; line-height: 1; border-radius: 0.35em; vertical-align: middle; margin-left: 0.5rem\">PER</span>\n",
              "</mark>\n",
              " , \n",
              "<mark class=\"entity\" style=\"background: #ddd; padding: 0.45em 0.6em; margin: 0 0.25em; line-height: 1; border-radius: 0.35em;\">\n",
              "    paulo\n",
              "    <span style=\"font-size: 0.8em; font-weight: bold; line-height: 1; border-radius: 0.35em; vertical-align: middle; margin-left: 0.5rem\">PER</span>\n",
              "</mark>\n",
              " escreveu : a morte veio por meio de um homem .</br>quando \n",
              "<mark class=\"entity\" style=\"background: #ddd; padding: 0.45em 0.6em; margin: 0 0.25em; line-height: 1; border-radius: 0.35em;\">\n",
              "    adão\n",
              "    <span style=\"font-size: 0.8em; font-weight: bold; line-height: 1; border-radius: 0.35em; vertical-align: middle; margin-left: 0.5rem\">PER</span>\n",
              "</mark>\n",
              " pecou , ele trouxe a morte para si mesmo e para seus descendentes .</br>até hoje sentimos os efeitos trágicos da desobediência dele .</br>por outro lado , quando deus ressuscitou seu filho , nós passamos a ter uma esperança maravilhosa para o futuro ! \n",
              "<mark class=\"entity\" style=\"background: #ddd; padding: 0.45em 0.6em; margin: 0 0.25em; line-height: 1; border-radius: 0.35em;\">\n",
              "    paulo\n",
              "    <span style=\"font-size: 0.8em; font-weight: bold; line-height: 1; border-radius: 0.35em; vertical-align: middle; margin-left: 0.5rem\">PER</span>\n",
              "</mark>\n",
              " explicou : a ressurreição dos mortos também vem por meio de um homem , \n",
              "<mark class=\"entity\" style=\"background: #ddd; padding: 0.45em 0.6em; margin: 0 0.25em; line-height: 1; border-radius: 0.35em;\">\n",
              "    jesus\n",
              "    <span style=\"font-size: 0.8em; font-weight: bold; line-height: 1; border-radius: 0.35em; vertical-align: middle; margin-left: 0.5rem\">PER</span>\n",
              "</mark>\n",
              " .</br>e ele também disse : porque , assim como em adão todos morrem , assim também em cristo todos receberão vida .</br>\n",
              "<mark class=\"entity\" style=\"background: #ddd; padding: 0.45em 0.6em; margin: 0 0.25em; line-height: 1; border-radius: 0.35em;\">\n",
              "    adão\n",
              "    <span style=\"font-size: 0.8em; font-weight: bold; line-height: 1; border-radius: 0.35em; vertical-align: middle; margin-left: 0.5rem\">PER</span>\n",
              "</mark>\n",
              " vai ser ressuscitado ? explique .</br>o que \n",
              "<mark class=\"entity\" style=\"background: #ddd; padding: 0.45em 0.6em; margin: 0 0.25em; line-height: 1; border-radius: 0.35em;\">\n",
              "    paulo\n",
              "    <span style=\"font-size: 0.8em; font-weight: bold; line-height: 1; border-radius: 0.35em; vertical-align: middle; margin-left: 0.5rem\">PER</span>\n",
              "</mark>\n",
              " quis dizer com a frase : em adão todos morrem ? \n",
              "<mark class=\"entity\" style=\"background: #ddd; padding: 0.45em 0.6em; margin: 0 0.25em; line-height: 1; border-radius: 0.35em;\">\n",
              "    paulo\n",
              "    <span style=\"font-size: 0.8em; font-weight: bold; line-height: 1; border-radius: 0.35em; vertical-align: middle; margin-left: 0.5rem\">PER</span>\n",
              "</mark>\n",
              " estava pensando nos descendentes de \n",
              "<mark class=\"entity\" style=\"background: #ddd; padding: 0.45em 0.6em; margin: 0 0.25em; line-height: 1; border-radius: 0.35em;\">\n",
              "    adão\n",
              "    <span style=\"font-size: 0.8em; font-weight: bold; line-height: 1; border-radius: 0.35em; vertical-align: middle; margin-left: 0.5rem\">PER</span>\n",
              "</mark>\n",
              " .</br>como herdaram dele o pecado e a imperfeição , eles estão condenados a morrer .</br>\n",
              "<mark class=\"entity\" style=\"background: #ddd; padding: 0.45em 0.6em; margin: 0 0.25em; line-height: 1; border-radius: 0.35em;\">\n",
              "    adão\n",
              "    <span style=\"font-size: 0.8em; font-weight: bold; line-height: 1; border-radius: 0.35em; vertical-align: middle; margin-left: 0.5rem\">PER</span>\n",
              "</mark>\n",
              " não está entre os que receberão vida . o sacrifício de \n",
              "<mark class=\"entity\" style=\"background: #ddd; padding: 0.45em 0.6em; margin: 0 0.25em; line-height: 1; border-radius: 0.35em;\">\n",
              "    cristo\n",
              "    <span style=\"font-size: 0.8em; font-weight: bold; line-height: 1; border-radius: 0.35em; vertical-align: middle; margin-left: 0.5rem\">PER</span>\n",
              "</mark>\n",
              " não cobre o pecado dele , porque \n",
              "<mark class=\"entity\" style=\"background: #ddd; padding: 0.45em 0.6em; margin: 0 0.25em; line-height: 1; border-radius: 0.35em;\">\n",
              "    adão\n",
              "    <span style=\"font-size: 0.8em; font-weight: bold; line-height: 1; border-radius: 0.35em; vertical-align: middle; margin-left: 0.5rem\">PER</span>\n",
              "</mark>\n",
              " era um homem perfeito que , por vontade própria , desobedeceu a deus . o que aconteceu com \n",
              "<mark class=\"entity\" style=\"background: #ddd; padding: 0.45em 0.6em; margin: 0 0.25em; line-height: 1; border-radius: 0.35em;\">\n",
              "    adão\n",
              "    <span style=\"font-size: 0.8em; font-weight: bold; line-height: 1; border-radius: 0.35em; vertical-align: middle; margin-left: 0.5rem\">PER</span>\n",
              "</mark>\n",
              " é o mesmo que vai acontecer com aqueles que o filho do homem julgar como cabritos : o decepamento eterno .</br>\n",
              "<mark class=\"entity\" style=\"background: #ddd; padding: 0.45em 0.6em; margin: 0 0.25em; line-height: 1; border-radius: 0.35em;\">\n",
              "    jesus\n",
              "    <span style=\"font-size: 0.8em; font-weight: bold; line-height: 1; border-radius: 0.35em; vertical-align: middle; margin-left: 0.5rem\">PER</span>\n",
              "</mark>\n",
              " foi o primeiro de muitos que foram ressuscitados para viver no céu</br>quem está incluído em todos que receberão vida ?</br>note o que \n",
              "<mark class=\"entity\" style=\"background: #ddd; padding: 0.45em 0.6em; margin: 0 0.25em; line-height: 1; border-radius: 0.35em;\">\n",
              "    paulo\n",
              "    <span style=\"font-size: 0.8em; font-weight: bold; line-height: 1; border-radius: 0.35em; vertical-align: middle; margin-left: 0.5rem\">PER</span>\n",
              "</mark>\n",
              " disse : em cristo todos receberão vida .</br>paulo escreveu sua carta para cristãos ungidos em corinto que seriam ressuscitados para viver no céu .</br>esses cristãos tinham sido santificados em união com \n",
              "<mark class=\"entity\" style=\"background: #ddd; padding: 0.45em 0.6em; margin: 0 0.25em; line-height: 1; border-radius: 0.35em;\">\n",
              "    cristo jesus\n",
              "    <span style=\"font-size: 0.8em; font-weight: bold; line-height: 1; border-radius: 0.35em; vertical-align: middle; margin-left: 0.5rem\">PER</span>\n",
              "</mark>\n",
              " , chamados para ser santos .</br>e \n",
              "<mark class=\"entity\" style=\"background: #ddd; padding: 0.45em 0.6em; margin: 0 0.25em; line-height: 1; border-radius: 0.35em;\">\n",
              "    paulo\n",
              "    <span style=\"font-size: 0.8em; font-weight: bold; line-height: 1; border-radius: 0.35em; vertical-align: middle; margin-left: 0.5rem\">PER</span>\n",
              "</mark>\n",
              " mencionou os que adormeceram na morte em união com \n",
              "<mark class=\"entity\" style=\"background: #ddd; padding: 0.45em 0.6em; margin: 0 0.25em; line-height: 1; border-radius: 0.35em;\">\n",
              "    cristo\n",
              "    <span style=\"font-size: 0.8em; font-weight: bold; line-height: 1; border-radius: 0.35em; vertical-align: middle; margin-left: 0.5rem\">PER</span>\n",
              "</mark>\n",
              " .</br>em outra carta inspirada , \n",
              "<mark class=\"entity\" style=\"background: #ddd; padding: 0.45em 0.6em; margin: 0 0.25em; line-height: 1; border-radius: 0.35em;\">\n",
              "    paulo\n",
              "    <span style=\"font-size: 0.8em; font-weight: bold; line-height: 1; border-radius: 0.35em; vertical-align: middle; margin-left: 0.5rem\">PER</span>\n",
              "</mark>\n",
              " escreveu que aqueles unidos a \n",
              "<mark class=\"entity\" style=\"background: #7aecec; padding: 0.45em 0.6em; margin: 0 0.25em; line-height: 1; border-radius: 0.35em;\">\n",
              "    &amp;amp\n",
              "    <span style=\"font-size: 0.8em; font-weight: bold; line-height: 1; border-radius: 0.35em; vertical-align: middle; margin-left: 0.5rem\">ORG</span>\n",
              "</mark>\n",
              "; amp ; # 91 ; \n",
              "<mark class=\"entity\" style=\"background: #7aecec; padding: 0.45em 0.6em; margin: 0 0.25em; line-height: 1; border-radius: 0.35em;\">\n",
              "    jesus &amp;amp\n",
              "    <span style=\"font-size: 0.8em; font-weight: bold; line-height: 1; border-radius: 0.35em; vertical-align: middle; margin-left: 0.5rem\">ORG</span>\n",
              "</mark>\n",
              "; amp ; # 93 ; na semelhança da sua morte serão unidos a ele na semelhança da sua ressurreição .</br>\n",
              "<mark class=\"entity\" style=\"background: #ddd; padding: 0.45em 0.6em; margin: 0 0.25em; line-height: 1; border-radius: 0.35em;\">\n",
              "    jesus\n",
              "    <span style=\"font-size: 0.8em; font-weight: bold; line-height: 1; border-radius: 0.35em; vertical-align: middle; margin-left: 0.5rem\">PER</span>\n",
              "</mark>\n",
              " foi ressuscitado como ser espiritual e foi para o céu .</br>e é isso que vai acontecer com todos aqueles em união com \n",
              "<mark class=\"entity\" style=\"background: #ddd; padding: 0.45em 0.6em; margin: 0 0.25em; line-height: 1; border-radius: 0.35em;\">\n",
              "    cristo\n",
              "    <span style=\"font-size: 0.8em; font-weight: bold; line-height: 1; border-radius: 0.35em; vertical-align: middle; margin-left: 0.5rem\">PER</span>\n",
              "</mark>\n",
              " , ou seja , com todos os cristãos ungidos por \n",
              "<mark class=\"entity\" style=\"background: #ff9561; padding: 0.45em 0.6em; margin: 0 0.25em; line-height: 1; border-radius: 0.35em;\">\n",
              "    espírito santo\n",
              "    <span style=\"font-size: 0.8em; font-weight: bold; line-height: 1; border-radius: 0.35em; vertical-align: middle; margin-left: 0.5rem\">LOC</span>\n",
              "</mark>\n",
              " .</br>o que \n",
              "<mark class=\"entity\" style=\"background: #ddd; padding: 0.45em 0.6em; margin: 0 0.25em; line-height: 1; border-radius: 0.35em;\">\n",
              "    paulo\n",
              "    <span style=\"font-size: 0.8em; font-weight: bold; line-height: 1; border-radius: 0.35em; vertical-align: middle; margin-left: 0.5rem\">PER</span>\n",
              "</mark>\n",
              " quis dar a entender quando chamou \n",
              "<mark class=\"entity\" style=\"background: #ddd; padding: 0.45em 0.6em; margin: 0 0.25em; line-height: 1; border-radius: 0.35em;\">\n",
              "    jesus\n",
              "    <span style=\"font-size: 0.8em; font-weight: bold; line-height: 1; border-radius: 0.35em; vertical-align: middle; margin-left: 0.5rem\">PER</span>\n",
              "</mark>\n",
              " de as primícias ?</br>quando aqueles em união com \n",
              "<mark class=\"entity\" style=\"background: #ddd; padding: 0.45em 0.6em; margin: 0 0.25em; line-height: 1; border-radius: 0.35em;\">\n",
              "    cristo\n",
              "    <span style=\"font-size: 0.8em; font-weight: bold; line-height: 1; border-radius: 0.35em; vertical-align: middle; margin-left: 0.5rem\">PER</span>\n",
              "</mark>\n",
              " seriam ressuscitados para viver no céu ?</br>quando \n",
              "<mark class=\"entity\" style=\"background: #ddd; padding: 0.45em 0.6em; margin: 0 0.25em; line-height: 1; border-radius: 0.35em;\">\n",
              "    paulo\n",
              "    <span style=\"font-size: 0.8em; font-weight: bold; line-height: 1; border-radius: 0.35em; vertical-align: middle; margin-left: 0.5rem\">PER</span>\n",
              "</mark>\n",
              " escreveu aos coríntios , a ressurreição daqueles em união com \n",
              "<mark class=\"entity\" style=\"background: #ddd; padding: 0.45em 0.6em; margin: 0 0.25em; line-height: 1; border-radius: 0.35em;\">\n",
              "    cristo\n",
              "    <span style=\"font-size: 0.8em; font-weight: bold; line-height: 1; border-radius: 0.35em; vertical-align: middle; margin-left: 0.5rem\">PER</span>\n",
              "</mark>\n",
              " ainda não tinha começado .</br>paulo indicou que isso aconteceria em uma época futura .</br>ele disse : cada um na sua própria ordem : como primícias , \n",
              "<mark class=\"entity\" style=\"background: #ddd; padding: 0.45em 0.6em; margin: 0 0.25em; line-height: 1; border-radius: 0.35em;\">\n",
              "    cristo\n",
              "    <span style=\"font-size: 0.8em; font-weight: bold; line-height: 1; border-radius: 0.35em; vertical-align: middle; margin-left: 0.5rem\">PER</span>\n",
              "</mark>\n",
              " ; depois os que pertencem a cristo , durante a sua presença .</br>hoje estamos vivendo nesse período chamado presença de \n",
              "<mark class=\"entity\" style=\"background: #ddd; padding: 0.45em 0.6em; margin: 0 0.25em; line-height: 1; border-radius: 0.35em;\">\n",
              "    cristo\n",
              "    <span style=\"font-size: 0.8em; font-weight: bold; line-height: 1; border-radius: 0.35em; vertical-align: middle; margin-left: 0.5rem\">PER</span>\n",
              "</mark>\n",
              " . os apóstolos e outros cristãos ungidos tiveram que esperar até essa presença para ser ressuscitados para viver no céu e ser unidos a \n",
              "<mark class=\"entity\" style=\"background: #7aecec; padding: 0.45em 0.6em; margin: 0 0.25em; line-height: 1; border-radius: 0.35em;\">\n",
              "    &amp;amp\n",
              "    <span style=\"font-size: 0.8em; font-weight: bold; line-height: 1; border-radius: 0.35em; vertical-align: middle; margin-left: 0.5rem\">ORG</span>\n",
              "</mark>\n",
              "; amp ; # 91 ; \n",
              "<mark class=\"entity\" style=\"background: #7aecec; padding: 0.45em 0.6em; margin: 0 0.25em; line-height: 1; border-radius: 0.35em;\">\n",
              "    jesus &amp;amp\n",
              "    <span style=\"font-size: 0.8em; font-weight: bold; line-height: 1; border-radius: 0.35em; vertical-align: middle; margin-left: 0.5rem\">ORG</span>\n",
              "</mark>\n",
              "; amp ; # 93 ; na semelhança da sua ressurreição .</br>você tem uma esperança segura !</br>por que podemos concluir que haverá outra ressurreição além da celestial ? de acordo com 1 coríntios 15 : 24-26 , o que acontecerá no céu ?</br>e aqueles que não têm a esperança de viver no céu com \n",
              "<mark class=\"entity\" style=\"background: #ddd; padding: 0.45em 0.6em; margin: 0 0.25em; line-height: 1; border-radius: 0.35em;\">\n",
              "    cristo\n",
              "    <span style=\"font-size: 0.8em; font-weight: bold; line-height: 1; border-radius: 0.35em; vertical-align: middle; margin-left: 0.5rem\">PER</span>\n",
              "</mark>\n",
              " ? eles também têm a esperança de uma ressurreição .</br>a \n",
              "<mark class=\"entity\" style=\"background: #ddd; padding: 0.45em 0.6em; margin: 0 0.25em; line-height: 1; border-radius: 0.35em;\">\n",
              "    bíblia\n",
              "    <span style=\"font-size: 0.8em; font-weight: bold; line-height: 1; border-radius: 0.35em; vertical-align: middle; margin-left: 0.5rem\">MISC</span>\n",
              "</mark>\n",
              " diz que \n",
              "<mark class=\"entity\" style=\"background: #ddd; padding: 0.45em 0.6em; margin: 0 0.25em; line-height: 1; border-radius: 0.35em;\">\n",
              "    paulo\n",
              "    <span style=\"font-size: 0.8em; font-weight: bold; line-height: 1; border-radius: 0.35em; vertical-align: middle; margin-left: 0.5rem\">PER</span>\n",
              "</mark>\n",
              " e outros que vão para o céu participam da ressurreição dentre os mortos que ocorrerá mais cedo .</br>ou seja , esse texto dá a entender que uma outra ressurreição aconteceria mais tarde .</br>isso estaria de acordo com o que jó disse sobre seu futuro .</br>os que pertencem a cristo , ressuscitados durante a sua presença , estarão no céu com \n",
              "<mark class=\"entity\" style=\"background: #ddd; padding: 0.45em 0.6em; margin: 0 0.25em; line-height: 1; border-radius: 0.35em;\">\n",
              "    jesus\n",
              "    <span style=\"font-size: 0.8em; font-weight: bold; line-height: 1; border-radius: 0.35em; vertical-align: middle; margin-left: 0.5rem\">PER</span>\n",
              "</mark>\n",
              " quando ele reduzir a nada todo governo , autoridade e poder .</br>até mesmo o último inimigo , a morte , vai ser reduzido a nada .</br>todos aqueles ressuscitados para a vida no céu nunca vão morrer .</br>mas e os outros ? .</br>aqueles que vão viver na terra podem ter que esperança ?</br>que esperança aqueles que vão viver na terra podem ter ? a descrita pelas palavras de \n",
              "<mark class=\"entity\" style=\"background: #ddd; padding: 0.45em 0.6em; margin: 0 0.25em; line-height: 1; border-radius: 0.35em;\">\n",
              "    paulo\n",
              "    <span style=\"font-size: 0.8em; font-weight: bold; line-height: 1; border-radius: 0.35em; vertical-align: middle; margin-left: 0.5rem\">PER</span>\n",
              "</mark>\n",
              " : eu tenho esperança de que haverá uma ressurreição tanto de justos como de injustos .</br>como no céu não entra nenhuma pessoa injusta , essas palavras indicam uma futura ressurreição na \n",
              "<mark class=\"entity\" style=\"background: #ff9561; padding: 0.45em 0.6em; margin: 0 0.25em; line-height: 1; border-radius: 0.35em;\">\n",
              "    terra\n",
              "    <span style=\"font-size: 0.8em; font-weight: bold; line-height: 1; border-radius: 0.35em; vertical-align: middle; margin-left: 0.5rem\">LOC</span>\n",
              "</mark>\n",
              " .</br>acreditar na ressurreição nos faz olhar para o futuro com confiança</br>como esse estudo fortaleceu a sua esperança ?</br>com certeza , haverá uma ressurreição ! aqueles que forem ressuscitados para a vida na terra terão a oportunidade de viver para sempre . você pode confiar nessa promessa ! essa esperança pode trazer consolo quando você pensar em seus parentes e amigos que morreram . eles podem ser ressuscitados na época em que \n",
              "<mark class=\"entity\" style=\"background: #ddd; padding: 0.45em 0.6em; margin: 0 0.25em; line-height: 1; border-radius: 0.35em;\">\n",
              "    cristo\n",
              "    <span style=\"font-size: 0.8em; font-weight: bold; line-height: 1; border-radius: 0.35em; vertical-align: middle; margin-left: 0.5rem\">PER</span>\n",
              "</mark>\n",
              " e outros reinarem durante os mil anos .</br>você também pode ter a esperança segura de que , se morrer antes do milênio começar , você será ressuscitado .</br>essa esperança não leva a decepção .</br>ela pode fortalecer você agora e aumentar sua alegria no serviço a deus .</br>mas podemos aprender mais do capítulo 15 de 1 coríntios .</br>é o que vamos ver no próximo estudo .</br>qual é a sua resposta ?</br>o que prova para você que \n",
              "<mark class=\"entity\" style=\"background: #ddd; padding: 0.45em 0.6em; margin: 0 0.25em; line-height: 1; border-radius: 0.35em;\">\n",
              "    jesus\n",
              "    <span style=\"font-size: 0.8em; font-weight: bold; line-height: 1; border-radius: 0.35em; vertical-align: middle; margin-left: 0.5rem\">PER</span>\n",
              "</mark>\n",
              " foi ressuscitado ?</br>por que a ressurreição de \n",
              "<mark class=\"entity\" style=\"background: #ddd; padding: 0.45em 0.6em; margin: 0 0.25em; line-height: 1; border-radius: 0.35em;\">\n",
              "    jesus\n",
              "    <span style=\"font-size: 0.8em; font-weight: bold; line-height: 1; border-radius: 0.35em; vertical-align: middle; margin-left: 0.5rem\">PER</span>\n",
              "</mark>\n",
              " é tão importante para nós ?</br>como 1 coríntios , capítulo 15 , fortalece sua fé na ressurreição ?</br>cântico 147 a vida eterna — que bela promessa !</br>parágrafo 5 o capítulo 15 de 1 coríntios fala sobre a ressurreição .</br>por que esse ensino é importante para nós ? por que podemos ter certeza de que \n",
              "<mark class=\"entity\" style=\"background: #ddd; padding: 0.45em 0.6em; margin: 0 0.25em; line-height: 1; border-radius: 0.35em;\">\n",
              "    jesus\n",
              "    <span style=\"font-size: 0.8em; font-weight: bold; line-height: 1; border-radius: 0.35em; vertical-align: middle; margin-left: 0.5rem\">PER</span>\n",
              "</mark>\n",
              " foi ressuscitado ? este estudo vai responder a essas e a outras perguntas importantes sobre a ressurreição .</br>parágrafo 56 imagem : \n",
              "<mark class=\"entity\" style=\"background: #ddd; padding: 0.45em 0.6em; margin: 0 0.25em; line-height: 1; border-radius: 0.35em;\">\n",
              "    jesus\n",
              "    <span style=\"font-size: 0.8em; font-weight: bold; line-height: 1; border-radius: 0.35em; vertical-align: middle; margin-left: 0.5rem\">PER</span>\n",
              "</mark>\n",
              " foi o primeiro a ser ressuscitado para viver no céu .</br>outros discípulos com esperança celestial foram \n",
              "<mark class=\"entity\" style=\"background: #ddd; padding: 0.45em 0.6em; margin: 0 0.25em; line-height: 1; border-radius: 0.35em;\">\n",
              "    tomé\n",
              "    <span style=\"font-size: 0.8em; font-weight: bold; line-height: 1; border-radius: 0.35em; vertical-align: middle; margin-left: 0.5rem\">PER</span>\n",
              "</mark>\n",
              " , tiago , \n",
              "<mark class=\"entity\" style=\"background: #ff9561; padding: 0.45em 0.6em; margin: 0 0.25em; line-height: 1; border-radius: 0.35em;\">\n",
              "    lídia\n",
              "    <span style=\"font-size: 0.8em; font-weight: bold; line-height: 1; border-radius: 0.35em; vertical-align: middle; margin-left: 0.5rem\">LOC</span>\n",
              "</mark>\n",
              " , \n",
              "<mark class=\"entity\" style=\"background: #ddd; padding: 0.45em 0.6em; margin: 0 0.25em; line-height: 1; border-radius: 0.35em;\">\n",
              "    joão\n",
              "    <span style=\"font-size: 0.8em; font-weight: bold; line-height: 1; border-radius: 0.35em; vertical-align: middle; margin-left: 0.5rem\">PER</span>\n",
              "</mark>\n",
              " , \n",
              "<mark class=\"entity\" style=\"background: #ddd; padding: 0.45em 0.6em; margin: 0 0.25em; line-height: 1; border-radius: 0.35em;\">\n",
              "    maria\n",
              "    <span style=\"font-size: 0.8em; font-weight: bold; line-height: 1; border-radius: 0.35em; vertical-align: middle; margin-left: 0.5rem\">PER</span>\n",
              "</mark>\n",
              " e \n",
              "<mark class=\"entity\" style=\"background: #ddd; padding: 0.45em 0.6em; margin: 0 0.25em; line-height: 1; border-radius: 0.35em;\">\n",
              "    paulo\n",
              "    <span style=\"font-size: 0.8em; font-weight: bold; line-height: 1; border-radius: 0.35em; vertical-align: middle; margin-left: 0.5rem\">PER</span>\n",
              "</mark>\n",
              " .</br>parágrafo 58 imagem : um irmão perdeu sua esposa amada , com quem serviu a jeová por muito tempo . ele acredita que ela vai ser ressuscitada , e isso o motiva a continuar servindo lealmente a jeová .</br>morte , onde está a sua vitória ? morte , onde está o seu aguilhão ? .</br>cântico 141 o milagre da vida</br>o que vamos ver</br>por que entender a ressurreição para a vida no céu é importante para todos nós ?</br>deus inspirou alguns dos primeiros discípulos de \n",
              "<mark class=\"entity\" style=\"background: #ddd; padding: 0.45em 0.6em; margin: 0 0.25em; line-height: 1; border-radius: 0.35em;\">\n",
              "    jesus\n",
              "    <span style=\"font-size: 0.8em; font-weight: bold; line-height: 1; border-radius: 0.35em; vertical-align: middle; margin-left: 0.5rem\">PER</span>\n",
              "</mark>\n",
              " a escrever sobre a esperança de vida no céu .</br></div></span>"
            ],
            "text/plain": [
              "<IPython.core.display.HTML object>"
            ]
          },
          "metadata": {}
        }
      ]
    },
    {
      "cell_type": "markdown",
      "metadata": {
        "id": "0A4TEixso-tB"
      },
      "source": [
        "**Note**\n",
        "\n",
        "Although, the model provided by spacy for NER on Portuguese is far from perfect, it mostly able to identify entities from the corpus that we provided. For example, it was able to identify \"Jesus\", \"Paulo\" as a Person. But in other case it make mistake as well, as we can see in \"espírito santo\" which was identified as a Location.  "
      ]
    },
    {
      "cell_type": "markdown",
      "metadata": {
        "id": "NOcV5OPaodE1"
      },
      "source": [
        " **Distant supervision Algorithm**\n",
        "\n",
        "The the algorithm will explore the fact that Emakhuwa borrow Names and Location from Portuguese. So the ideia is to loop in each line in Portuguese sentences and for all entities found in each sentence, try to align them with the correspond translation in Emakhuwa language. To match the words we will take two procedure:\n",
        "1.   **Makhuatize**: transform portuguese words into Emakhuwa-like lexicon.\n",
        "2.   **Phonetic comparasion**: In the Emakhuwa parallel sentence look for the word that most sound similiar with the words got it from the *Makhuatize* process.  \n",
        "\n",
        "\n"
      ]
    },
    {
      "cell_type": "markdown",
      "metadata": {
        "id": "LPbNWFc-u8Mn"
      },
      "source": [
        "# Makhuatize function\n",
        "\n",
        "This are set of rules learned from the Emakhuwa language to try to guess transformation from portuguese word to Emakhuwa-like lexicon. "
      ]
    },
    {
      "cell_type": "code",
      "metadata": {
        "id": "M0HNt2GVoZah"
      },
      "source": [
        "import re\n",
        "\n",
        "def addregex(regex, array):\n",
        "  x = array.append(regex)\n",
        "  return array\n",
        "\n",
        "def makuwatiwe(ner):\n",
        "\n",
        "  standards = [{'b' : 'p'}, {'d': 't'}, {'z': 's'}, {'á' : 'a'}, {'ã' : 'a'}, {'à' : 'a'}, {'é' : 'e'}, {'í' : 'i'}, {'ó' : 'o'}, {'ú' : 'u'}, {'ç' : 's'}, {'qu' : 'kh'}]\n",
        "  regexes = [ \n",
        "            standards + [{'j':'y'}] + [{'o':'u'}] + [{'ia':'ya'}] +  [{'r':'ru'}]  , \n",
        "            standards + [{'j':'x'}]+ [{'o':'u'}] + [{'ia':'ya'}] +  [{'r':'ru'}]  , \n",
        "            standards + [{'o':'u'}] + [{'ia':'ya'}] + [{'r':'ru'}] +  [{'j':'x'}],\n",
        "            standards + [{'o':'u'}] + [{'ia':'ya'}] + [{'r':'ru'}] +  [{'j':'y'}],\n",
        "            standards + [{'o': 'ho'}] + [{'ia':'ya'}] + [{'ia':'ya'}] + [{'r':'ru'}] +  [{'j':'x'}],\n",
        "            standards + [{'o': 'ho'}] + [{'ia':'ya'}] + [{'ia':'ya'}] + [{'r':'ru'}] +  [{'j':'y'}],\n",
        "            standards + [{'o': 'ho'}] + [{'r':'ru'}] + [{'ia':'ya'}] + [{'r':'ru'}] +  [{'j':'x'}], \n",
        "            standards + [{'o': 'ho'}] + [{'r':'ru'}] + [{'ia':'ya'}] + [{'r':'ru'}] +  [{'j':'y'}],\n",
        "            standards + [{'o': 'ho'}] + [{'g': 'k'}] + [{'ia':'ya'}] + [{'r':'ru'}] +  [{'j':'y'}],\n",
        "            standards + [{'o': 'ho'}] + [{'g': 'k'}] + [{'ia':'ya'}] + [{'r':'ru'}] +  [{'j':'y'}],\n",
        "            standards + [{'o': 'ho'}] + [{'g': 'k'}] + [{'ia':'ya'}] + [{'r':'ru'}] +  [{'j':'X'}],\n",
        "            standards + [{'o': 'ho'}] + [{'g': 'k'}] + [{'ia':'ya'}] + [{'r':'ru'}] +  [{'j':'X'}]    \n",
        "            ]\n",
        "  \n",
        "  # swap consonats\n",
        "  suggestions = []\n",
        "  suggestion = ner[0].lower()\n",
        "  for regex in regexes:\n",
        "    for letter in regex:\n",
        "      for key, value in letter.items(): \n",
        "        suggestion = re.sub(key, value, suggestion)    \n",
        "    suggestions.append(suggestion)\n",
        "    suggestion = ner[0].lower()\n",
        "\n",
        "  suggestions.append(ner[0].lower())\n",
        "  \n",
        "  consoant = ['a', 'e', 'i', 'o', 'u']\n",
        "  if ner[1] == 'LOC':\n",
        "    suggestions = ['o'+seg if seg[0] not in consoant else 'w'+seg for seg in suggestions]\n",
        "    suggestions.append(ner[0].lower())\n",
        "\n",
        "  return set(suggestions)\n",
        "      "
      ],
      "execution_count": 25,
      "outputs": []
    },
    {
      "cell_type": "code",
      "metadata": {
        "colab": {
          "base_uri": "https://localhost:8080/"
        },
        "id": "Ah_Gujinv2lH",
        "outputId": "f4d99c1b-82aa-4275-c0c6-35398e4463a4"
      },
      "source": [
        "makuwatiwe(('Moçambique', 'LOC'))"
      ],
      "execution_count": 26,
      "outputs": [
        {
          "output_type": "execute_result",
          "data": {
            "text/plain": [
              "{'moçambique', 'omhosampikhe', 'omoçambique', 'omusampikhe'}"
            ]
          },
          "metadata": {},
          "execution_count": 26
        }
      ]
    },
    {
      "cell_type": "code",
      "metadata": {
        "colab": {
          "base_uri": "https://localhost:8080/"
        },
        "id": "D98RAgSDv8Yk",
        "outputId": "2a937fc2-7ddb-43af-902f-5c45f3e7a619"
      },
      "source": [
        "makuwatiwe(('América', 'LOC'))"
      ],
      "execution_count": 27,
      "outputs": [
        {
          "output_type": "execute_result",
          "data": {
            "text/plain": [
              "{'américa', 'wameruica', 'wameruuica', 'wamérica'}"
            ]
          },
          "metadata": {},
          "execution_count": 27
        }
      ]
    },
    {
      "cell_type": "code",
      "metadata": {
        "colab": {
          "base_uri": "https://localhost:8080/"
        },
        "id": "7Oc-SACgwA2v",
        "outputId": "57d84f9e-19b0-4f9b-b873-73e4bfd8c43d"
      },
      "source": [
        "makuwatiwe(('Jesus', 'PER'))"
      ],
      "execution_count": 29,
      "outputs": [
        {
          "output_type": "execute_result",
          "data": {
            "text/plain": [
              "{'Xesus', 'jesus', 'xesus', 'yesus'}"
            ]
          },
          "metadata": {},
          "execution_count": 29
        }
      ]
    },
    {
      "cell_type": "markdown",
      "metadata": {
        "id": "QCTKTjlGwUhZ"
      },
      "source": [
        "# Phonetics comparison\n",
        "\n",
        "It uses a phonetic algorithm to check wheater to words sound similiar or not."
      ]
    },
    {
      "cell_type": "code",
      "metadata": {
        "colab": {
          "base_uri": "https://localhost:8080/"
        },
        "id": "Ho1QI_0Yw6ai",
        "outputId": "e0fd082b-d79e-4133-83e0-b01b8181d788"
      },
      "source": [
        "!pip install pyphonetics"
      ],
      "execution_count": 31,
      "outputs": [
        {
          "output_type": "stream",
          "name": "stdout",
          "text": [
            "Collecting pyphonetics\n",
            "  Downloading pyphonetics-0.5.3-py2.py3-none-any.whl (10 kB)\n",
            "Collecting unidecode<2,>=1\n",
            "  Downloading Unidecode-1.3.2-py3-none-any.whl (235 kB)\n",
            "     |████████████████████████████████| 235 kB 5.6 MB/s            \n",
            "\u001b[?25hInstalling collected packages: unidecode, pyphonetics\n",
            "Successfully installed pyphonetics-0.5.3 unidecode-1.3.2\n",
            "\u001b[33mWARNING: Running pip as the 'root' user can result in broken permissions and conflicting behaviour with the system package manager. It is recommended to use a virtual environment instead: https://pip.pypa.io/warnings/venv\u001b[0m\n"
          ]
        }
      ]
    },
    {
      "cell_type": "code",
      "metadata": {
        "id": "YRxsFZOmwoez"
      },
      "source": [
        "from pyphonetics import Soundex\n",
        "\n",
        "def phonetic_comparision(guesses, actual_word):\n",
        "  soundex = Soundex()\n",
        "  for guess in guesses:\n",
        "    print(guess + ' sounds like '+ actual_word + '  --- '+str(soundex.sounds_like(guess, actual_word)))"
      ],
      "execution_count": 40,
      "outputs": []
    },
    {
      "cell_type": "code",
      "metadata": {
        "colab": {
          "base_uri": "https://localhost:8080/"
        },
        "id": "zSUak1tWylKI",
        "outputId": "6e560134-427e-4226-aa06-e2d990fcdee8"
      },
      "source": [
        "phonetic_comparision(makuwatiwe(('éfeso', 'LOC')), 'wefeso')"
      ],
      "execution_count": 39,
      "outputs": [
        {
          "output_type": "stream",
          "name": "stdout",
          "text": [
            "wefesu sounds like wefeso  --- True\n",
            "oéfeso sounds like wefeso  --- False\n",
            "éfeso sounds like wefeso  --- False\n",
            "wefesho sounds like wefeso  --- True\n"
          ]
        }
      ]
    },
    {
      "cell_type": "code",
      "metadata": {
        "colab": {
          "base_uri": "https://localhost:8080/"
        },
        "id": "VebXxeyGzTtq",
        "outputId": "cd706bc3-7dca-4469-f958-04b3b7ce1ad6"
      },
      "source": [
        "phonetic_comparision(makuwatiwe(('jerusalém', 'LOC')), 'oyerusalemu')"
      ],
      "execution_count": 41,
      "outputs": [
        {
          "output_type": "stream",
          "name": "stdout",
          "text": [
            "ojerusalém sounds like oyerusalemu  --- False\n",
            "oyeruuusalem sounds like oyerusalemu  --- True\n",
            "oyeruusalem sounds like oyerusalemu  --- True\n",
            "oxeruusalem sounds like oyerusalemu  --- False\n",
            "oxeruuusalem sounds like oyerusalemu  --- False\n",
            "oXeruusalem sounds like oyerusalemu  --- False\n",
            "jerusalém sounds like oyerusalemu  --- False\n"
          ]
        }
      ]
    },
    {
      "cell_type": "code",
      "metadata": {
        "colab": {
          "base_uri": "https://localhost:8080/"
        },
        "id": "QtWeU2B50BR7",
        "outputId": "eae81613-3701-46da-dfc5-b82e54db3143"
      },
      "source": [
        "phonetic_comparision(makuwatiwe(('ezequiel', 'PER')), 'ezekiyeli')"
      ],
      "execution_count": 43,
      "outputs": [
        {
          "output_type": "stream",
          "name": "stdout",
          "text": [
            "esekhiel sounds like ezekiyeli  --- True\n",
            "ezequiel sounds like ezekiyeli  --- True\n"
          ]
        }
      ]
    },
    {
      "cell_type": "code",
      "metadata": {
        "colab": {
          "base_uri": "https://localhost:8080/"
        },
        "id": "85M6ykKw091z",
        "outputId": "ec8d7e06-da1d-4fa6-be0e-3ddd4e5cbfdb"
      },
      "source": [
        "phonetic_comparision(makuwatiwe(('miguel', 'PER')), 'mikhayeli')"
      ],
      "execution_count": 44,
      "outputs": [
        {
          "output_type": "stream",
          "name": "stdout",
          "text": [
            "miguel sounds like mikhayeli  --- True\n",
            "mikuel sounds like mikhayeli  --- True\n"
          ]
        }
      ]
    },
    {
      "cell_type": "markdown",
      "metadata": {
        "id": "z0QxmvU31bE4"
      },
      "source": [
        "# Wrap-up All"
      ]
    },
    {
      "cell_type": "code",
      "metadata": {
        "id": "St3sDEgB1i-b"
      },
      "source": [
        "import re\n",
        "\n",
        "# Get start and end index of word apearance in a given sentence\n",
        "def index_match(word, sentence):\n",
        "  result = []\n",
        "  for match in re.finditer(word, sentence):\n",
        "    result.append((match.start(), match.end()))\n",
        "  return result"
      ],
      "execution_count": 45,
      "outputs": []
    },
    {
      "cell_type": "code",
      "metadata": {
        "id": "JvaAL3Sa2fNa"
      },
      "source": [
        "def ner_recognition(docu):\n",
        "  entidades_nomeadas = list(docu.ents)\n",
        "  detalhes_entidade = [(entidade.orth_, entidade.label_)  for entidade in docu.ents if entidade.label_ == 'LOC']\n",
        "  #detalhes_entidade = [(entidade.orth_, entidade.label_)  for entidade in docu.ents if entidade.label_ == 'PER']\n",
        "  return detalhes_entidade"
      ],
      "execution_count": 46,
      "outputs": []
    },
    {
      "cell_type": "code",
      "metadata": {
        "colab": {
          "base_uri": "https://localhost:8080/"
        },
        "id": "PN0sAep61Z8r",
        "outputId": "a4d531f4-4dae-47ec-8f46-0a9bfefe9988"
      },
      "source": [
        "import spacy\n",
        "import re\n",
        "from pyphonetics import Soundex\n",
        "nlp = spacy.load('pt_core_news_sm')\n",
        "\n",
        "file = 100\n",
        "\n",
        "ners = {}\n",
        "dictionary = {}\n",
        "corpus = {}\n",
        "line_out = []\n",
        "#while (file <= 47400):\n",
        "while (file <= 200):\n",
        "  file_pt = open('/content/drive/MyDrive/NLP/NER/folds-pt/'+str(file))\n",
        "  file_vmw = open('/content/drive/MyDrive/NLP/NER/folds-vmw/'+str(file))\n",
        "  \n",
        "  pt_sentence = file_pt.readlines()\n",
        "  vmw_sentence = file_vmw.readlines()\n",
        "  \n",
        "  i=0\n",
        " \n",
        "\n",
        "  \n",
        "  while (i < len(pt_sentence) and i < len(vmw_sentence) and (len(vmw_sentence) == len(pt_sentence))): \n",
        "    doc_pt = nlp(pt_sentence[i])\n",
        "    ners.update(ner_recognition(doc_pt))\n",
        "    \n",
        "    line_number = (int(file)-100) + i + 2 if int(file) > 100 else i + 1\n",
        "    \n",
        "    if len(ners.items())>0:\n",
        "      corpus[vmw_sentence[i]] = {'entities':[]}\n",
        "    \n",
        "    for ner, types in ners.items():\n",
        "      # Makhutize\n",
        "      words = makuwatiwe((ner, types))\n",
        "      doc_vmw = nlp(vmw_sentence[i])\n",
        "      soundex = Soundex()\n",
        "      tokens = [token.orth_ for token in doc_vmw if token.is_alpha]\n",
        "\n",
        "      for token in tokens:\n",
        "        for word in words:\n",
        "          # phonetics comparision\n",
        "          if soundex.sounds_like(word, token):\n",
        "            total =  soundex.distance(ner, token, metric='levenshtein')          \n",
        "            # print(ner + \" \"+token + \" \"+types + \" \"+str(line_number) + ' '+ str(total)+'\\n')\n",
        "            outcsv = '['           \n",
        "            for match in index_match(token, vmw_sentence[i]):\n",
        "              outcsv += str(match[0]) + ', ' + str(match[1]) + ', \"'+types+'\"],\\n'\n",
        "              corpus[vmw_sentence[i]]['entities']+= [(match[0], match[1], types)]\n",
        "            \n",
        "\n",
        "            line_out.append(ner + \", \"+token + \", \"+types + \", \"+str(line_number) + ', '+ str(total)+'\\n')        \n",
        "            dictionary[ner] = list(set(dictionary[ner] + [token])) if ner in dictionary.keys() else [token]\n",
        "            break\n",
        "\n",
        "    \n",
        "    ners = {}\n",
        "    i += 1\n",
        "\n",
        "  \n",
        "  file_pt.close()\n",
        "  file_vmw.close()\n",
        "  file += 100\n",
        "\n",
        "\n",
        "# Display 3 line report\n",
        "print(\"Displaying 3 line-report\")\n",
        "print(\"   pt \"+ \"     vmw \"+ \" type \"+ ' line# '+ ' edit-distance \\n')\n",
        "max_diplay = 0\n",
        "while(max_diplay < 3):\n",
        "  print(line_out[max_diplay])\n",
        "  max_diplay += 1\n",
        "\n",
        "\n",
        "corpout = '{ \"classes\": [\"LOC\", \"PERSON\"], \"annotations\": ['\n",
        "corpout += '['\n",
        "for key, values in corpus.items():\n",
        "  if len(values['entities']) > 0 :\n",
        "    corpout += '[\"'+re.sub('[\\n]', '', key)+'\", { \"entities\": ['\n",
        "    for v in values['entities']:\n",
        "      corpout += \"[\" + str(v[0])+\", \"+ str(v[1]) + ', \"'+str(v[2])+'\"],' \n",
        "    corpout += '] }],'\n",
        "corpout += ']'\n",
        "corpout += ']}'\n",
        "\n",
        "\n",
        "print(\"\\nCorpus for spacy NER training\")\n",
        "print(corpout)\n",
        "\n",
        "print(\"\\nGazetteers generated\")\n",
        "print(dictionary)\n",
        "\n",
        "\n",
        "file1 = open(\"/content/drive/MyDrive/NLP/NER/line-report.txt\", \"w\")\n",
        "file1.writelines(line_out)\n",
        "file1.close()\n",
        "\n",
        "file3 = open(\"/content/drive/MyDrive/NLP/NER/ner-corpus.json\", \"w\")\n",
        "file3.writelines(corpout)\n",
        "file3.close()\n",
        "\n",
        "dic_out = []\n",
        "for key, values in dictionary.items():\n",
        "  l = key+': '\n",
        "  for value in values:\n",
        "    l += value + ', '\n",
        "  l += '. \\n'\n",
        "  dic_out.append(l)\n",
        "\n",
        "file2 = open(\"/content/drive/MyDrive/NLP/NER/gazetteers.txt\", \"w\")\n",
        "file2.writelines(dic_out)\n",
        "file2.close()\n"
      ],
      "execution_count": 55,
      "outputs": [
        {
          "output_type": "stream",
          "name": "stdout",
          "text": [
            "Displaying 3 line-report\n",
            "   pt      vmw  type  line#  edit-distance \n",
            "\n",
            "damasco, odamaasiko, LOC, 17, 3\n",
            "\n",
            "corinto, okorinto, LOC, 25, 3\n",
            "\n",
            "corinto, okorinto, LOC, 28, 3\n",
            "\n",
            "\n",
            "Corpus for spacy NER training\n",
            "{ \"classes\": [\"LOC\", \"PERSON\"], \"annotations\": [[[\"okathi aarowa awe odamaasiko paulo wala saulo aahiiwa nsu na yesu ni aahoonihiwa kristu ori ene wiirimu .\", { \"entities\": [[18, 28, \"LOC\"],] }],[\"atthu akina a epooma ya okorinto , yaahikhalana moonelo woohiloka voohimya sa ohihimuxiwa .\", { \"entities\": [[24, 32, \"LOC\"],] }],[\"nto muupuwelo owo waahaahapuxa atthu akina okorinto .\", { \"entities\": [[43, 51, \"LOC\"],] }],[\"awiixutti akina yaarina nlipelelo na orowa okhalaka wiirimu ti tome , yakobo , lidia , yohani , maria ni paulo .\", { \"entities\": [[79, 84, \"LOC\"],] }],[\"nave aalempe so : elapo ela ya wéfeso , miyo kowana ntoko kawana n inama sowali .\", { \"entities\": [[31, 37, \"LOC\"],] }],[\"woonasa wene , paulo aahimya inama soowali aawananne awe warena epooma ya weefeso .\", { \"entities\": [[74, 81, \"LOC\"],] }],[\"anna a muloko wa okorinto yaahaana okhalana ephoole ni apatthani aya , yaawo yahaakupali wira atthu ookhwa anoohihimuxiwa .\", { \"entities\": [[17, 25, \"LOC\"],] }],]]}\n",
            "\n",
            "Gazetteers generated\n",
            "{'damasco': ['odamaasiko'], 'corinto': ['okorinto'], 'lídia': ['lidia'], 'éfeso': ['weefeso', 'wéfeso']}\n"
          ]
        }
      ]
    },
    {
      "cell_type": "code",
      "metadata": {
        "id": "Rn3PgiSI4lV8"
      },
      "source": [
        ""
      ],
      "execution_count": null,
      "outputs": []
    }
  ]
}